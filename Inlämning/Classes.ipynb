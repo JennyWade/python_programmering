{
 "cells": [
  {
   "cell_type": "code",
   "execution_count": 53,
   "metadata": {},
   "outputs": [
    {
     "name": "stdout",
     "output_type": "stream",
     "text": [
      "<bound method create_dataframe.view_df of <__main__.create_dataframe object at 0x000001E945AC3B50>>\n"
     ]
    }
   ],
   "source": [
    "from importlib.resources import path\n",
    "import pandas as pd\n",
    "import numpy as np\n",
    "import seaborn as sns\n",
    "import sqlite3\n",
    "\n",
    "\n",
    "class pandas_csv:\n",
    "    path = \"C:\\Users\\jenny\\Documents\\GitHub\\python_programmering\\Inlämning\\covid_vaccinations.csv\"\n",
    "    def __init__(self, path):\n",
    "        self.dataframe = pd.read_csv(path)\n",
    "\n",
    "    def drop_na(self):\n",
    "        self.dataframe = dataframe.fillna(0)\n",
    "    \n",
    "    def split_col(self):\n",
    "        self.dataframe = self.dataframe[\"vaccines\"]\n",
    "\n",
    "\n",
    "class sql_queries:\n",
    "\n",
    "class visualise:\n"
   ]
  }
 ],
 "metadata": {
  "interpreter": {
   "hash": "d410f6d8006d8929d67753a973fda3f0ad82a818c322d2c963adf46017a14870"
  },
  "kernelspec": {
   "display_name": "Python 3.9.7 64-bit ('jupyter': conda)",
   "language": "python",
   "name": "python3"
  },
  "language_info": {
   "codemirror_mode": {
    "name": "ipython",
    "version": 3
   },
   "file_extension": ".py",
   "mimetype": "text/x-python",
   "name": "python",
   "nbconvert_exporter": "python",
   "pygments_lexer": "ipython3",
   "version": "3.9.7"
  },
  "orig_nbformat": 4
 },
 "nbformat": 4,
 "nbformat_minor": 2
}
