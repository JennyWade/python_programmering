{
 "cells": [
  {
   "cell_type": "code",
   "execution_count": 42,
   "metadata": {},
   "outputs": [],
   "source": [
    "from importlib.resources import path\n",
    "from argparse import ArgumentParser\n",
    "import pandas as pd\n",
    "import numpy as np\n",
    "import seaborn as sns\n",
    "import sqlite3\n",
    "\n",
    "class CleanCSV:\n",
    "    def __init__(self, csv_path):\n",
    "        self.df = pd.read_csv(csv_path)\n",
    "\n",
    "    def _split_to_list(self, column):\n",
    "        #split vaccine column and get a list of unique values\n",
    "        self.column = column\n",
    "        split = self.df[self.column].str.split(\",\", expand=True)\n",
    "        vl0 = split[0].str.split(\",\")\n",
    "        vl1 = split[1].str.split(\",\")\n",
    "        vl2 = split[2].str.split(\",\")\n",
    "        vl3 = split[3].str.split(\",\")\n",
    "        vl4 = split[4].str.split(\",\")\n",
    "        vl5 = split[5].str.split(\",\")\n",
    "        vl6 = split[6].str.split(\",\")\n",
    "        vl = pd.concat([vl0,vl1,vl2,vl3,vl4,vl5,vl6])\n",
    "        vl = vl.drop_duplicates()\n",
    " \n",
    "    \n",
    "    def _add_columns(self):\n",
    "        self.df[\"JohnsonAndJohnson\"] = self.df[\"vaccines\"].str.contains(\"Johnson&Johnson\") * 1\n",
    "        self.df[\"OxfordAstraZeneca\"] = self.df[\"vaccines\"].str.contains(\"Oxford/AstraZeneca\") * 1\n",
    "        self.df[\"Sinovac\"] = self.df[\"vaccines\"].str.contains(\"Sinovac\") * 1\n",
    "        self.df[\"SputnikV\"] = self.df[\"vaccines\"].str.contains(\"Sputnik V\") * 1\n",
    "        self.df[\"Moderna\"] = self.df[\"vaccines\"].str.contains(\"Moderna\") * 1\n",
    "        self.df[\"SinopharmBeijing\"] = self.df[\"vaccines\"].str.contains(\"Sinopharm/Beijing\") * 1\n",
    "        self.df[\"Covaxin\"] = self.df[\"vaccines\"].str.contains(\"Covaxin\") * 1\n",
    "        self.df[\"CanSino\"] = self.df[\"vaccines\"].str.contains(\"CanSino\") * 1\n",
    "        self.df[\"Abdala\"] = self.df[\"vaccines\"].str.contains(\"Abdala\") * 1\n",
    "        self.df[\"PfizerBioNTech\"] = self.df[\"vaccines\"].str.contains(\"Pfizer/BioNTech\") * 1\n",
    "        self.df[\"QazVac\"] = self.df[\"vaccines\"].str.contains(\"QazVac\") * 1\n",
    "        self.df[\"EpiVacCorona\"] = self.df[\"vaccines\"].str.contains(\"EpiVacCorona\") * 1\n",
    "        self.df[\"Soberana02\"] = self.df[\"vaccines\"].str.contains(\"Soberana02\") * 1\n",
    "        self.df[\"SinopharmHayatVax\"] = self.df[\"vaccines\"].str.contains(\"Sinopharm/HayatVax\") * 1\n",
    "        self.df[\"RBDDimer\"] = self.df[\"vaccines\"].str.contains(\"RBD-Dimer\") * 1\n",
    "        self.df[\"SinopharmWuhan\"] = self.df[\"vaccines\"].str.contains(\"Sinopharm/Wuhan\") * 1\n",
    "\n",
    "    def _remove(self, col_todrop):\n",
    "        #Remove columns\n",
    "        self.col_todrop = self.df.drop(col_todrop, axis=1, inplace=True)\n",
    "\n",
    "    def _createDatabase(self, db, name):\n",
    "        self.db = sqlite3.connect(db)\n",
    "        self.name = name\n",
    "        self.df.to_sql(self.name, self.db)\n",
    "        cur = self.db.cursor()"
   ]
  },
  {
   "cell_type": "code",
   "execution_count": 10,
   "metadata": {},
   "outputs": [],
   "source": [
    "\n",
    "class CreateDatabase:\n",
    "    def __init__(self):\n",
    "        path = \"/Users/jenny.wade@schibsted.com/Documents/GitHub/python_programmering/Inlämning/covid_vaccinations.csv\"\n",
    "        self.df = pd.read_csv(path)\n",
    "        self.db = self.df.to_sql(\"Covid_vaccinations\", con, schema=None, if_exists=\"replace\", index=True, index_label=None, chunksize=None, dtype=None, method=None)\n",
    "        self.con = sqlite3.connect(db_name)\n",
    "        self.cur = self.db.cursor()"
   ]
  },
  {
   "cell_type": "code",
   "execution_count": 2,
   "metadata": {},
   "outputs": [],
   "source": [
    "import Classes\n",
    "\n"
   ]
  },
  {
   "cell_type": "code",
   "execution_count": 7,
   "metadata": {},
   "outputs": [],
   "source": [
    "if __name__ == \"__main__\":\n",
    "    covid = Classes.CleanCSV(\"vaccin_covid.csv\")\n",
    "\n",
    "    covid._split_to_list('vaccines')\n",
    "\n",
    "    covid._remove([\"vaccines\", \"daily_vaccinations_raw\"])\n",
    "\n",
    "    covid._createDatabase('covid.db', 'covid.db')"
   ]
  }
 ],
 "metadata": {
  "interpreter": {
   "hash": "ffa4a8459794cdd69c74f55bb33a9aa9b4bc53ebdc4688a0ecb1cb445b59f03b"
  },
  "kernelspec": {
   "display_name": "Python 3.8.12 64-bit ('testenv': conda)",
   "language": "python",
   "name": "python3"
  },
  "language_info": {
   "codemirror_mode": {
    "name": "ipython",
    "version": 3
   },
   "file_extension": ".py",
   "mimetype": "text/x-python",
   "name": "python",
   "nbconvert_exporter": "python",
   "pygments_lexer": "ipython3",
   "version": "3.8.12"
  },
  "orig_nbformat": 4
 },
 "nbformat": 4,
 "nbformat_minor": 2
}
