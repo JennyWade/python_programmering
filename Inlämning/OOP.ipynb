{
 "cells": [
  {
   "cell_type": "code",
   "execution_count": 7,
   "metadata": {},
   "outputs": [],
   "source": [
    "import sqlite3\n",
    "import pandas as pd\n",
    "import csv\n",
    "import argparse"
   ]
  },
  {
   "cell_type": "code",
   "execution_count": 8,
   "metadata": {},
   "outputs": [],
   "source": [
    "db = sqlite3.connect(\"Covid.db\")\n",
    "cur = db.cursor()\n",
    "con = sqlite3.connect(\"Covid.db\")\n"
   ]
  },
  {
   "cell_type": "code",
   "execution_count": 9,
   "metadata": {},
   "outputs": [],
   "source": [
    "df = pd.read_csv(r\"/Users/jenny.wade@schibsted.com/Documents/GitHub/python_programmering/Inlämning/covid_vaccinations.csv\")\n",
    "df = df.fillna(0)\n",
    "db = df.to_sql(\"Covid_vaccinations\", con, schema=None, if_exists=\"replace\", index=True, index_label=None, chunksize=None, dtype=None, method=None)\n"
   ]
  },
  {
   "cell_type": "code",
   "execution_count": 10,
   "metadata": {},
   "outputs": [],
   "source": [
    "#Creating all tables (empty) I need for my database below:"
   ]
  },
  {
   "cell_type": "code",
   "execution_count": 11,
   "metadata": {},
   "outputs": [
    {
     "data": {
      "text/plain": [
       "<sqlite3.Cursor at 0x7fd2a9a0e8f0>"
      ]
     },
     "execution_count": 11,
     "metadata": {},
     "output_type": "execute_result"
    }
   ],
   "source": [
    "cur.execute(\"\"\"CREATE TABLE Daily_Vaccine_Data(\n",
    "            iso_code text,\n",
    "            date text,\n",
    "            country text,\n",
    "            daily_vaccinations integer,\n",
    "            daily_vaccinations_per_million,\n",
    "            PRIMARY KEY(iso_code, date)\n",
    "            FOREIGN KEY(country) REFERENCES Country_Source(country))\"\"\")"
   ]
  },
  {
   "cell_type": "code",
   "execution_count": 12,
   "metadata": {},
   "outputs": [
    {
     "data": {
      "text/plain": [
       "<sqlite3.Cursor at 0x7fd2a9a0e8f0>"
      ]
     },
     "execution_count": 12,
     "metadata": {},
     "output_type": "execute_result"
    }
   ],
   "source": [
    "cur.execute(\"\"\"CREATE TABLE Country_Source(\n",
    "            country text PRIMARY KEY, \n",
    "            source_name text, \n",
    "            source_website text)\"\"\")"
   ]
  },
  {
   "cell_type": "code",
   "execution_count": 13,
   "metadata": {},
   "outputs": [
    {
     "data": {
      "text/plain": [
       "<sqlite3.Cursor at 0x7fd2a9a0e8f0>"
      ]
     },
     "execution_count": 13,
     "metadata": {},
     "output_type": "execute_result"
    }
   ],
   "source": [
    "cur.execute(\"\"\"CREATE TABLE Country_Vaccines(\n",
    "    country text PRIMARY KEY, Johnson_and_Johnson integer, \n",
    "    Oxford_AstraZeneca integer, Sinovac integer,\n",
    "    Sputnik_V integer, Moderna integer, \n",
    "    Sinopharm_Beijing integer, Covaxin integer, \n",
    "    CanSino integer, Abdala integer, \n",
    "    Pfizer_BioNTech integer, QazVac integer, \n",
    "    EpiVacCorona integer, Soberana02 integer, \n",
    "    Sinopharm_HayatVax integer, RBDDimer integer, \n",
    "    Sinopharm_Wuhan integer,\n",
    "    FOREIGN KEY(country) REFERENCES Country_Source(country))\"\"\")"
   ]
  },
  {
   "cell_type": "code",
   "execution_count": 14,
   "metadata": {},
   "outputs": [
    {
     "data": {
      "text/plain": [
       "<sqlite3.Cursor at 0x7fd2a9a0e8f0>"
      ]
     },
     "execution_count": 14,
     "metadata": {},
     "output_type": "execute_result"
    }
   ],
   "source": [
    "cur.execute(\"\"\"CREATE TABLE Country_Total(\n",
    "    iso_code text,\n",
    "    date text,\n",
    "    total_vaccinations integer, \n",
    "    country text , \n",
    "    people_vaccinated integer, \n",
    "    people_fully_vaccinated integer,\n",
    "    total_vaccinations_per_hundred real, \n",
    "    people_vaccinated_per_hundred real, \n",
    "    people_fully_vaccinated_per_hundred real,\n",
    "    PRIMARY KEY (iso_code, date)\n",
    "    FOREIGN KEY(country) REFERENCES Country_Source(country))\"\"\")"
   ]
  },
  {
   "cell_type": "code",
   "execution_count": null,
   "metadata": {},
   "outputs": [],
   "source": []
  },
  {
   "cell_type": "code",
   "execution_count": 15,
   "metadata": {},
   "outputs": [],
   "source": [
    "#Creating copy tables with all the data I need for each table already ordered"
   ]
  },
  {
   "cell_type": "code",
   "execution_count": 16,
   "metadata": {},
   "outputs": [
    {
     "data": {
      "text/plain": [
       "<sqlite3.Cursor at 0x7fd2a9a0e8f0>"
      ]
     },
     "execution_count": 16,
     "metadata": {},
     "output_type": "execute_result"
    }
   ],
   "source": [
    "cur.execute(\"\"\"CREATE TABLE Daily_Vaccine_Data_data AS SELECT\n",
    "            iso_code, date, country, daily_vaccinations, daily_vaccinations_per_million\n",
    "            FROM Covid_vaccinations\"\"\")\n"
   ]
  },
  {
   "cell_type": "code",
   "execution_count": 17,
   "metadata": {},
   "outputs": [
    {
     "data": {
      "text/plain": [
       "<sqlite3.Cursor at 0x7fd2a9a0e8f0>"
      ]
     },
     "execution_count": 17,
     "metadata": {},
     "output_type": "execute_result"
    }
   ],
   "source": [
    "cur.execute(\"\"\"CREATE TABLE Country_Source_data\n",
    "            AS SELECT DISTINCT country, source_name, source_website \n",
    "            FROM Covid_vaccinations\"\"\")\n"
   ]
  },
  {
   "cell_type": "code",
   "execution_count": 18,
   "metadata": {},
   "outputs": [
    {
     "data": {
      "text/plain": [
       "<sqlite3.Cursor at 0x7fd2a9a0e8f0>"
      ]
     },
     "execution_count": 18,
     "metadata": {},
     "output_type": "execute_result"
    }
   ],
   "source": [
    "cur.execute(\"\"\"CREATE TABLE Country_vaccines_data AS SELECT DISTINCT country, \n",
    "            Johnson_and_Johnson, Oxford_AstraZeneca, Sinovac, Sputnik_V, Moderna, \n",
    "            Sinopharm_Beijing, Covaxin, CanSino, Abdala, Pfizer_BioNTech, QazVac, \n",
    "            EpiVacCorona, Soberana02, Sinopharm_HayatVax, RBD_Dimer, Sinopharm_Wuhan \n",
    "            FROM Covid_vaccinations\"\"\")\n"
   ]
  },
  {
   "cell_type": "code",
   "execution_count": 19,
   "metadata": {},
   "outputs": [
    {
     "data": {
      "text/plain": [
       "<sqlite3.Cursor at 0x7fd2a9a0e8f0>"
      ]
     },
     "execution_count": 19,
     "metadata": {},
     "output_type": "execute_result"
    }
   ],
   "source": [
    "cur.execute(\"\"\"CREATE TABLE Country_Total_data AS SELECT DISTINCT iso_code, date, country, total_vaccinations, people_vaccinated,\n",
    "            people_fully_vaccinated, total_vaccinations_per_hundred, people_vaccinated_per_hundred,\n",
    "            people_fully_vaccinated_per_hundred FROM Covid_vaccinations\"\"\")\n"
   ]
  },
  {
   "cell_type": "code",
   "execution_count": 20,
   "metadata": {},
   "outputs": [
    {
     "data": {
      "text/plain": [
       "<sqlite3.Cursor at 0x7fd2a9a0e8f0>"
      ]
     },
     "execution_count": 20,
     "metadata": {},
     "output_type": "execute_result"
    }
   ],
   "source": [
    "#Insert data table into actual table\n",
    "cur.execute(\"\"\"INSERT INTO Country_Source SELECT * FROM Country_Source_data\"\"\")\n"
   ]
  },
  {
   "cell_type": "code",
   "execution_count": 21,
   "metadata": {},
   "outputs": [
    {
     "data": {
      "text/plain": [
       "<sqlite3.Cursor at 0x7fd2a9a0e8f0>"
      ]
     },
     "execution_count": 21,
     "metadata": {},
     "output_type": "execute_result"
    }
   ],
   "source": [
    "#Inserting data from remaining tables into corresponding table\n",
    "cur.execute(\"\"\"INSERT INTO Daily_Vaccine_Data SELECT * FROM Daily_Vaccine_Data_data\"\"\")\n",
    "cur.execute(\"\"\"INSERT INTO Country_Vaccines SELECT * FROM Country_vaccines_data\"\"\")\n",
    "cur.execute(\"\"\"INSERT INTO Country_Total SELECT * FROM Country_Total_data \"\"\")\n"
   ]
  },
  {
   "cell_type": "code",
   "execution_count": 22,
   "metadata": {},
   "outputs": [
    {
     "data": {
      "text/plain": [
       "<sqlite3.Cursor at 0x7fd2a9a0e8f0>"
      ]
     },
     "execution_count": 22,
     "metadata": {},
     "output_type": "execute_result"
    }
   ],
   "source": [
    "#After checking that all tables have the right data I'll remove the data tables along with the original\n",
    "cur.execute(\"\"\"DROP TABLE Daily_Vaccine_Data_data\"\"\")\n",
    "cur.execute(\"\"\"DROP TABLE Country_Source_data\"\"\")\n",
    "cur.execute(\"\"\"DROP TABLE Country_vaccines_data\"\"\")\n",
    "cur.execute(\"DROP TABLE Country_total_data\")\n",
    "cur.execute(\"DROP TABLE Covid_vaccinations\")\n"
   ]
  },
  {
   "cell_type": "code",
   "execution_count": 23,
   "metadata": {},
   "outputs": [],
   "source": [
    "con.commit()"
   ]
  },
  {
   "cell_type": "code",
   "execution_count": 24,
   "metadata": {},
   "outputs": [
    {
     "data": {
      "text/plain": [
       "[('2021-01-01', 'Sweden', 1964),\n",
       " ('2021-01-02', 'Sweden', 1964),\n",
       " ('2021-01-03', 'Sweden', 1964),\n",
       " ('2021-01-04', 'Sweden', 2409),\n",
       " ('2021-01-05', 'Sweden', 2854),\n",
       " ('2021-01-06', 'Sweden', 3300),\n",
       " ('2021-01-07', 'Sweden', 3745),\n",
       " ('2021-01-08', 'Sweden', 4190),\n",
       " ('2021-01-09', 'Sweden', 4635),\n",
       " ('2021-01-10', 'Sweden', 5081),\n",
       " ('2021-01-11', 'Sweden', 5954),\n",
       " ('2021-01-12', 'Sweden', 6827),\n",
       " ('2021-01-13', 'Sweden', 7701),\n",
       " ('2021-01-14', 'Sweden', 8574),\n",
       " ('2021-01-15', 'Sweden', 9448),\n",
       " ('2021-01-16', 'Sweden', 10321),\n",
       " ('2021-01-17', 'Sweden', 11194),\n",
       " ('2021-01-18', 'Sweden', 11959),\n",
       " ('2021-01-19', 'Sweden', 12724),\n",
       " ('2021-01-20', 'Sweden', 13488),\n",
       " ('2021-01-21', 'Sweden', 14253),\n",
       " ('2021-01-22', 'Sweden', 15018),\n",
       " ('2021-01-23', 'Sweden', 15782),\n",
       " ('2021-01-24', 'Sweden', 16547),\n",
       " ('2021-01-25', 'Sweden', 16042),\n",
       " ('2021-01-26', 'Sweden', 15538),\n",
       " ('2021-01-27', 'Sweden', 15033),\n",
       " ('2021-01-28', 'Sweden', 14528),\n",
       " ('2021-01-29', 'Sweden', 14024),\n",
       " ('2021-01-30', 'Sweden', 13519),\n",
       " ('2021-01-31', 'Sweden', 13014),\n",
       " ('2021-02-01', 'Sweden', 13193),\n",
       " ('2021-02-02', 'Sweden', 13372),\n",
       " ('2021-02-03', 'Sweden', 13551),\n",
       " ('2021-02-04', 'Sweden', 13730),\n",
       " ('2021-02-05', 'Sweden', 13909),\n",
       " ('2021-02-06', 'Sweden', 14088),\n",
       " ('2021-02-07', 'Sweden', 14267),\n",
       " ('2021-02-08', 'Sweden', 14630),\n",
       " ('2021-02-09', 'Sweden', 14993),\n",
       " ('2021-02-10', 'Sweden', 15356),\n",
       " ('2021-02-11', 'Sweden', 15719),\n",
       " ('2021-02-12', 'Sweden', 16082),\n",
       " ('2021-02-13', 'Sweden', 16445),\n",
       " ('2021-02-14', 'Sweden', 16808),\n",
       " ('2021-02-15', 'Sweden', 17549),\n",
       " ('2021-02-16', 'Sweden', 18289),\n",
       " ('2021-02-17', 'Sweden', 19029),\n",
       " ('2021-02-18', 'Sweden', 19770),\n",
       " ('2021-02-19', 'Sweden', 20510),\n",
       " ('2021-02-20', 'Sweden', 21250),\n",
       " ('2021-02-21', 'Sweden', 21991),\n",
       " ('2021-02-22', 'Sweden', 22033),\n",
       " ('2021-02-23', 'Sweden', 22075),\n",
       " ('2021-02-24', 'Sweden', 22117),\n",
       " ('2021-02-25', 'Sweden', 22159),\n",
       " ('2021-02-26', 'Sweden', 22201),\n",
       " ('2021-02-27', 'Sweden', 22243),\n",
       " ('2021-02-28', 'Sweden', 22285),\n",
       " ('2021-03-01', 'Sweden', 22958),\n",
       " ('2021-03-02', 'Sweden', 23631),\n",
       " ('2021-03-03', 'Sweden', 24303),\n",
       " ('2021-03-04', 'Sweden', 24976),\n",
       " ('2021-03-05', 'Sweden', 25649),\n",
       " ('2021-03-06', 'Sweden', 26321),\n",
       " ('2021-03-07', 'Sweden', 26994),\n",
       " ('2021-03-08', 'Sweden', 27647),\n",
       " ('2021-03-09', 'Sweden', 28301),\n",
       " ('2021-03-10', 'Sweden', 28954),\n",
       " ('2021-03-11', 'Sweden', 29607),\n",
       " ('2021-03-12', 'Sweden', 30260),\n",
       " ('2021-03-13', 'Sweden', 30913),\n",
       " ('2021-03-14', 'Sweden', 31567),\n",
       " ('2021-03-15', 'Sweden', 30590),\n",
       " ('2021-03-16', 'Sweden', 29613),\n",
       " ('2021-03-17', 'Sweden', 28637),\n",
       " ('2021-03-18', 'Sweden', 27660),\n",
       " ('2021-03-19', 'Sweden', 26684),\n",
       " ('2021-03-20', 'Sweden', 25707),\n",
       " ('2021-03-21', 'Sweden', 24730),\n",
       " ('2021-03-22', 'Sweden', 25232),\n",
       " ('2021-03-23', 'Sweden', 25734),\n",
       " ('2021-03-24', 'Sweden', 26236),\n",
       " ('2021-03-25', 'Sweden', 26738),\n",
       " ('2021-03-26', 'Sweden', 27240),\n",
       " ('2021-03-27', 'Sweden', 27742),\n",
       " ('2021-03-28', 'Sweden', 28244),\n",
       " ('2021-03-29', 'Sweden', 29610),\n",
       " ('2021-03-30', 'Sweden', 30975),\n",
       " ('2021-03-31', 'Sweden', 32340),\n",
       " ('2021-04-01', 'Sweden', 33705),\n",
       " ('2021-04-02', 'Sweden', 35071),\n",
       " ('2021-04-03', 'Sweden', 36436),\n",
       " ('2021-04-04', 'Sweden', 37801),\n",
       " ('2021-04-05', 'Sweden', 39442),\n",
       " ('2021-04-06', 'Sweden', 41082),\n",
       " ('2021-04-07', 'Sweden', 42722),\n",
       " ('2021-04-08', 'Sweden', 44363),\n",
       " ('2021-04-09', 'Sweden', 46003),\n",
       " ('2021-04-10', 'Sweden', 47644),\n",
       " ('2021-04-11', 'Sweden', 49284),\n",
       " ('2021-04-12', 'Sweden', 51919),\n",
       " ('2021-04-13', 'Sweden', 54555),\n",
       " ('2021-04-14', 'Sweden', 57190),\n",
       " ('2021-04-15', 'Sweden', 59825),\n",
       " ('2021-04-16', 'Sweden', 62460),\n",
       " ('2021-04-17', 'Sweden', 65096),\n",
       " ('2021-04-18', 'Sweden', 67731),\n",
       " ('2021-04-19', 'Sweden', 67035),\n",
       " ('2021-04-20', 'Sweden', 66338),\n",
       " ('2021-04-21', 'Sweden', 65642),\n",
       " ('2021-04-22', 'Sweden', 64946),\n",
       " ('2021-04-23', 'Sweden', 64249),\n",
       " ('2021-04-24', 'Sweden', 63553),\n",
       " ('2021-04-25', 'Sweden', 62857),\n",
       " ('2021-04-26', 'Sweden', 61996),\n",
       " ('2021-04-27', 'Sweden', 61135),\n",
       " ('2021-04-28', 'Sweden', 60274),\n",
       " ('2021-04-29', 'Sweden', 59413),\n",
       " ('2021-04-30', 'Sweden', 58552),\n",
       " ('2021-05-01', 'Sweden', 57691),\n",
       " ('2021-05-02', 'Sweden', 56830),\n",
       " ('2021-05-03', 'Sweden', 58043),\n",
       " ('2021-05-04', 'Sweden', 59255),\n",
       " ('2021-05-05', 'Sweden', 60468),\n",
       " ('2021-05-06', 'Sweden', 61680),\n",
       " ('2021-05-07', 'Sweden', 62892),\n",
       " ('2021-05-08', 'Sweden', 64105),\n",
       " ('2021-05-09', 'Sweden', 65317),\n",
       " ('2021-05-10', 'Sweden', 64658),\n",
       " ('2021-05-11', 'Sweden', 63999),\n",
       " ('2021-05-12', 'Sweden', 63340),\n",
       " ('2021-05-13', 'Sweden', 62680),\n",
       " ('2021-05-14', 'Sweden', 62021),\n",
       " ('2021-05-15', 'Sweden', 61362),\n",
       " ('2021-05-16', 'Sweden', 60703),\n",
       " ('2021-05-17', 'Sweden', 61267),\n",
       " ('2021-05-18', 'Sweden', 61831),\n",
       " ('2021-05-19', 'Sweden', 62395),\n",
       " ('2021-05-20', 'Sweden', 62959),\n",
       " ('2021-05-21', 'Sweden', 63524),\n",
       " ('2021-05-22', 'Sweden', 64088),\n",
       " ('2021-05-23', 'Sweden', 64652),\n",
       " ('2021-05-24', 'Sweden', 65278),\n",
       " ('2021-05-25', 'Sweden', 65904),\n",
       " ('2021-05-26', 'Sweden', 66530),\n",
       " ('2021-05-27', 'Sweden', 67156),\n",
       " ('2021-05-28', 'Sweden', 67782),\n",
       " ('2021-05-29', 'Sweden', 68408),\n",
       " ('2021-05-30', 'Sweden', 69034),\n",
       " ('2021-05-31', 'Sweden', 71075),\n",
       " ('2021-06-01', 'Sweden', 73116),\n",
       " ('2021-06-02', 'Sweden', 75157),\n",
       " ('2021-06-03', 'Sweden', 77198),\n",
       " ('2021-06-04', 'Sweden', 79239),\n",
       " ('2021-06-05', 'Sweden', 81280),\n",
       " ('2021-06-06', 'Sweden', 83321),\n",
       " ('2021-06-07', 'Sweden', 85243),\n",
       " ('2021-06-08', 'Sweden', 87164),\n",
       " ('2021-06-09', 'Sweden', 89085),\n",
       " ('2021-06-10', 'Sweden', 91006),\n",
       " ('2021-06-11', 'Sweden', 92928),\n",
       " ('2021-06-12', 'Sweden', 94849),\n",
       " ('2021-06-13', 'Sweden', 96770),\n",
       " ('2021-06-14', 'Sweden', 98646),\n",
       " ('2021-06-15', 'Sweden', 100521),\n",
       " ('2021-06-16', 'Sweden', 102397),\n",
       " ('2021-06-17', 'Sweden', 104273),\n",
       " ('2021-06-18', 'Sweden', 106148),\n",
       " ('2021-06-19', 'Sweden', 108024),\n",
       " ('2021-06-20', 'Sweden', 109900),\n",
       " ('2021-06-21', 'Sweden', 107151),\n",
       " ('2021-06-22', 'Sweden', 104402),\n",
       " ('2021-06-23', 'Sweden', 101653),\n",
       " ('2021-06-24', 'Sweden', 98904),\n",
       " ('2021-06-25', 'Sweden', 96155),\n",
       " ('2021-06-26', 'Sweden', 93406),\n",
       " ('2021-06-27', 'Sweden', 90657),\n",
       " ('2021-06-28', 'Sweden', 92590),\n",
       " ('2021-06-29', 'Sweden', 94523),\n",
       " ('2021-06-30', 'Sweden', 96455),\n",
       " ('2021-07-01', 'Sweden', 98388),\n",
       " ('2021-07-02', 'Sweden', 100321),\n",
       " ('2021-07-03', 'Sweden', 102253),\n",
       " ('2021-07-04', 'Sweden', 104186),\n",
       " ('2021-07-05', 'Sweden', 101336),\n",
       " ('2021-07-06', 'Sweden', 98486),\n",
       " ('2021-07-07', 'Sweden', 95637),\n",
       " ('2021-07-08', 'Sweden', 92787),\n",
       " ('2021-07-09', 'Sweden', 89937),\n",
       " ('2021-07-10', 'Sweden', 87087),\n",
       " ('2021-07-11', 'Sweden', 84237),\n",
       " ('2021-07-12', 'Sweden', 82381),\n",
       " ('2021-07-13', 'Sweden', 80525),\n",
       " ('2021-07-14', 'Sweden', 78669),\n",
       " ('2021-07-15', 'Sweden', 76813),\n",
       " ('2021-07-16', 'Sweden', 74957),\n",
       " ('2021-07-17', 'Sweden', 73101),\n",
       " ('2021-07-18', 'Sweden', 71245),\n",
       " ('2021-07-19', 'Sweden', 69890),\n",
       " ('2021-07-20', 'Sweden', 68535),\n",
       " ('2021-07-21', 'Sweden', 67181),\n",
       " ('2021-07-22', 'Sweden', 65826),\n",
       " ('2021-07-23', 'Sweden', 64471),\n",
       " ('2021-07-24', 'Sweden', 63116),\n",
       " ('2021-07-25', 'Sweden', 61762),\n",
       " ('2021-07-26', 'Sweden', 59519),\n",
       " ('2021-07-27', 'Sweden', 57276),\n",
       " ('2021-07-28', 'Sweden', 55034),\n",
       " ('2021-07-29', 'Sweden', 52791),\n",
       " ('2021-07-30', 'Sweden', 55661),\n",
       " ('2021-07-31', 'Sweden', 51648),\n",
       " ('2021-08-01', 'Sweden', 47634),\n",
       " ('2021-08-02', 'Sweden', 45863),\n",
       " ('2021-08-03', 'Sweden', 44092),\n",
       " ('2021-08-04', 'Sweden', 53509),\n",
       " ('2021-08-05', 'Sweden', 52644)]"
      ]
     },
     "execution_count": 24,
     "metadata": {},
     "output_type": "execute_result"
    }
   ],
   "source": [
    "cur.execute(\"\"\"SELECT date, country, daily_vaccinations FROM Daily_Vaccine_Data WHERE Country LIKE 'Sweden' AND date like '2021%'\"\"\")\n",
    "cur.fetchall()"
   ]
  },
  {
   "cell_type": "code",
   "execution_count": 27,
   "metadata": {},
   "outputs": [
    {
     "ename": "DatabaseError",
     "evalue": "Execution failed on sql 'SELECT date, country, daily_vaccinations FROM Daily_Vaccine_Data WHERE Country LIKE 'Sweden' AND date like '2021%'': no such table: Daily_Vaccine_Data",
     "output_type": "error",
     "traceback": [
      "\u001b[0;31m---------------------------------------------------------------------------\u001b[0m",
      "\u001b[0;31mOperationalError\u001b[0m                          Traceback (most recent call last)",
      "File \u001b[0;32m~/opt/miniconda3/envs/jupyter/lib/python3.8/site-packages/pandas/io/sql.py:2017\u001b[0m, in \u001b[0;36mSQLiteDatabase.execute\u001b[0;34m(self, *args, **kwargs)\u001b[0m\n\u001b[1;32m   2016\u001b[0m \u001b[38;5;28;01mtry\u001b[39;00m:\n\u001b[0;32m-> 2017\u001b[0m     \u001b[43mcur\u001b[49m\u001b[38;5;241;43m.\u001b[39;49m\u001b[43mexecute\u001b[49m\u001b[43m(\u001b[49m\u001b[38;5;241;43m*\u001b[39;49m\u001b[43margs\u001b[49m\u001b[43m,\u001b[49m\u001b[43m \u001b[49m\u001b[38;5;241;43m*\u001b[39;49m\u001b[38;5;241;43m*\u001b[39;49m\u001b[43mkwargs\u001b[49m\u001b[43m)\u001b[49m\n\u001b[1;32m   2018\u001b[0m     \u001b[38;5;28;01mreturn\u001b[39;00m cur\n",
      "\u001b[0;31mOperationalError\u001b[0m: no such table: Daily_Vaccine_Data",
      "\nThe above exception was the direct cause of the following exception:\n",
      "\u001b[0;31mDatabaseError\u001b[0m                             Traceback (most recent call last)",
      "Input \u001b[0;32mIn [27]\u001b[0m, in \u001b[0;36m<module>\u001b[0;34m\u001b[0m\n\u001b[0;32m----> 1\u001b[0m results \u001b[38;5;241m=\u001b[39m \u001b[43mpd\u001b[49m\u001b[38;5;241;43m.\u001b[39;49m\u001b[43mread_sql_query\u001b[49m\u001b[43m(\u001b[49m\u001b[38;5;124;43m\"\"\"\u001b[39;49m\u001b[38;5;124;43mSELECT date, country, daily_vaccinations FROM Daily_Vaccine_Data WHERE Country LIKE \u001b[39;49m\u001b[38;5;124;43m'\u001b[39;49m\u001b[38;5;124;43mSweden\u001b[39;49m\u001b[38;5;124;43m'\u001b[39;49m\u001b[38;5;124;43m AND date like \u001b[39;49m\u001b[38;5;124;43m'\u001b[39;49m\u001b[38;5;124;43m2021\u001b[39;49m\u001b[38;5;124;43m%\u001b[39;49m\u001b[38;5;124;43m'\u001b[39;49m\u001b[38;5;124;43m\"\"\"\u001b[39;49m\u001b[43m,\u001b[49m\u001b[43m \u001b[49m\u001b[43mcon\u001b[49m\u001b[43m)\u001b[49m\n",
      "File \u001b[0;32m~/opt/miniconda3/envs/jupyter/lib/python3.8/site-packages/pandas/io/sql.py:399\u001b[0m, in \u001b[0;36mread_sql_query\u001b[0;34m(sql, con, index_col, coerce_float, params, parse_dates, chunksize, dtype)\u001b[0m\n\u001b[1;32m    341\u001b[0m \u001b[38;5;124;03m\"\"\"\u001b[39;00m\n\u001b[1;32m    342\u001b[0m \u001b[38;5;124;03mRead SQL query into a DataFrame.\u001b[39;00m\n\u001b[1;32m    343\u001b[0m \n\u001b[0;32m   (...)\u001b[0m\n\u001b[1;32m    396\u001b[0m \u001b[38;5;124;03mparameter will be converted to UTC.\u001b[39;00m\n\u001b[1;32m    397\u001b[0m \u001b[38;5;124;03m\"\"\"\u001b[39;00m\n\u001b[1;32m    398\u001b[0m pandas_sql \u001b[38;5;241m=\u001b[39m pandasSQL_builder(con)\n\u001b[0;32m--> 399\u001b[0m \u001b[38;5;28;01mreturn\u001b[39;00m \u001b[43mpandas_sql\u001b[49m\u001b[38;5;241;43m.\u001b[39;49m\u001b[43mread_query\u001b[49m\u001b[43m(\u001b[49m\n\u001b[1;32m    400\u001b[0m \u001b[43m    \u001b[49m\u001b[43msql\u001b[49m\u001b[43m,\u001b[49m\n\u001b[1;32m    401\u001b[0m \u001b[43m    \u001b[49m\u001b[43mindex_col\u001b[49m\u001b[38;5;241;43m=\u001b[39;49m\u001b[43mindex_col\u001b[49m\u001b[43m,\u001b[49m\n\u001b[1;32m    402\u001b[0m \u001b[43m    \u001b[49m\u001b[43mparams\u001b[49m\u001b[38;5;241;43m=\u001b[39;49m\u001b[43mparams\u001b[49m\u001b[43m,\u001b[49m\n\u001b[1;32m    403\u001b[0m \u001b[43m    \u001b[49m\u001b[43mcoerce_float\u001b[49m\u001b[38;5;241;43m=\u001b[39;49m\u001b[43mcoerce_float\u001b[49m\u001b[43m,\u001b[49m\n\u001b[1;32m    404\u001b[0m \u001b[43m    \u001b[49m\u001b[43mparse_dates\u001b[49m\u001b[38;5;241;43m=\u001b[39;49m\u001b[43mparse_dates\u001b[49m\u001b[43m,\u001b[49m\n\u001b[1;32m    405\u001b[0m \u001b[43m    \u001b[49m\u001b[43mchunksize\u001b[49m\u001b[38;5;241;43m=\u001b[39;49m\u001b[43mchunksize\u001b[49m\u001b[43m,\u001b[49m\n\u001b[1;32m    406\u001b[0m \u001b[43m    \u001b[49m\u001b[43mdtype\u001b[49m\u001b[38;5;241;43m=\u001b[39;49m\u001b[43mdtype\u001b[49m\u001b[43m,\u001b[49m\n\u001b[1;32m    407\u001b[0m \u001b[43m\u001b[49m\u001b[43m)\u001b[49m\n",
      "File \u001b[0;32m~/opt/miniconda3/envs/jupyter/lib/python3.8/site-packages/pandas/io/sql.py:2077\u001b[0m, in \u001b[0;36mSQLiteDatabase.read_query\u001b[0;34m(self, sql, index_col, coerce_float, params, parse_dates, chunksize, dtype)\u001b[0m\n\u001b[1;32m   2065\u001b[0m \u001b[38;5;28;01mdef\u001b[39;00m \u001b[38;5;21mread_query\u001b[39m(\n\u001b[1;32m   2066\u001b[0m     \u001b[38;5;28mself\u001b[39m,\n\u001b[1;32m   2067\u001b[0m     sql,\n\u001b[0;32m   (...)\u001b[0m\n\u001b[1;32m   2073\u001b[0m     dtype: DtypeArg \u001b[38;5;241m|\u001b[39m \u001b[38;5;28;01mNone\u001b[39;00m \u001b[38;5;241m=\u001b[39m \u001b[38;5;28;01mNone\u001b[39;00m,\n\u001b[1;32m   2074\u001b[0m ):\n\u001b[1;32m   2076\u001b[0m     args \u001b[38;5;241m=\u001b[39m _convert_params(sql, params)\n\u001b[0;32m-> 2077\u001b[0m     cursor \u001b[38;5;241m=\u001b[39m \u001b[38;5;28;43mself\u001b[39;49m\u001b[38;5;241;43m.\u001b[39;49m\u001b[43mexecute\u001b[49m\u001b[43m(\u001b[49m\u001b[38;5;241;43m*\u001b[39;49m\u001b[43margs\u001b[49m\u001b[43m)\u001b[49m\n\u001b[1;32m   2078\u001b[0m     columns \u001b[38;5;241m=\u001b[39m [col_desc[\u001b[38;5;241m0\u001b[39m] \u001b[38;5;28;01mfor\u001b[39;00m col_desc \u001b[38;5;129;01min\u001b[39;00m cursor\u001b[38;5;241m.\u001b[39mdescription]\n\u001b[1;32m   2080\u001b[0m     \u001b[38;5;28;01mif\u001b[39;00m chunksize \u001b[38;5;129;01mis\u001b[39;00m \u001b[38;5;129;01mnot\u001b[39;00m \u001b[38;5;28;01mNone\u001b[39;00m:\n",
      "File \u001b[0;32m~/opt/miniconda3/envs/jupyter/lib/python3.8/site-packages/pandas/io/sql.py:2029\u001b[0m, in \u001b[0;36mSQLiteDatabase.execute\u001b[0;34m(self, *args, **kwargs)\u001b[0m\n\u001b[1;32m   2026\u001b[0m     \u001b[38;5;28;01mraise\u001b[39;00m ex \u001b[38;5;28;01mfrom\u001b[39;00m \u001b[38;5;21;01minner_exc\u001b[39;00m\n\u001b[1;32m   2028\u001b[0m ex \u001b[38;5;241m=\u001b[39m DatabaseError(\u001b[38;5;124mf\u001b[39m\u001b[38;5;124m\"\u001b[39m\u001b[38;5;124mExecution failed on sql \u001b[39m\u001b[38;5;124m'\u001b[39m\u001b[38;5;132;01m{\u001b[39;00margs[\u001b[38;5;241m0\u001b[39m]\u001b[38;5;132;01m}\u001b[39;00m\u001b[38;5;124m'\u001b[39m\u001b[38;5;124m: \u001b[39m\u001b[38;5;132;01m{\u001b[39;00mexc\u001b[38;5;132;01m}\u001b[39;00m\u001b[38;5;124m\"\u001b[39m)\n\u001b[0;32m-> 2029\u001b[0m \u001b[38;5;28;01mraise\u001b[39;00m ex \u001b[38;5;28;01mfrom\u001b[39;00m \u001b[38;5;21;01mexc\u001b[39;00m\n",
      "\u001b[0;31mDatabaseError\u001b[0m: Execution failed on sql 'SELECT date, country, daily_vaccinations FROM Daily_Vaccine_Data WHERE Country LIKE 'Sweden' AND date like '2021%'': no such table: Daily_Vaccine_Data"
     ]
    }
   ],
   "source": [
    "results = pd.read_sql_query(\"\"\"SELECT date, country, daily_vaccinations FROM Daily_Vaccine_Data WHERE Country LIKE 'Sweden' AND date like '2021%'\"\"\", con)\n"
   ]
  }
 ],
 "metadata": {
  "interpreter": {
   "hash": "ffa4a8459794cdd69c74f55bb33a9aa9b4bc53ebdc4688a0ecb1cb445b59f03b"
  },
  "kernelspec": {
   "display_name": "Python 3.8.12 64-bit ('testenv': conda)",
   "language": "python",
   "name": "python3"
  },
  "language_info": {
   "codemirror_mode": {
    "name": "ipython",
    "version": 3
   },
   "file_extension": ".py",
   "mimetype": "text/x-python",
   "name": "python",
   "nbconvert_exporter": "python",
   "pygments_lexer": "ipython3",
   "version": "3.8.12"
  },
  "orig_nbformat": 4
 },
 "nbformat": 4,
 "nbformat_minor": 2
}
