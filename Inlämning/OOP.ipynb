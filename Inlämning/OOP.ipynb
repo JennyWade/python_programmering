{
 "cells": [
  {
   "cell_type": "code",
   "execution_count": 40,
   "metadata": {},
   "outputs": [],
   "source": [
    "import sqlite3\n",
    "import pandas as pd\n",
    "import csv\n",
    "import argparse"
   ]
  },
  {
   "cell_type": "code",
   "execution_count": 58,
   "metadata": {},
   "outputs": [],
   "source": [
    "db = sqlite3.connect(\"Covid.db\")\n",
    "cur = db.cursor()\n",
    "con = sqlite3.connect(\"Covid.db\")\n"
   ]
  },
  {
   "cell_type": "code",
   "execution_count": 59,
   "metadata": {},
   "outputs": [],
   "source": [
    "df = pd.read_csv(r\"/Users/jenny.wade@schibsted.com/Documents/GitHub/python_programmering/Inlämning/covid_vaccinations.csv\")\n",
    "df = df.fillna(0)\n",
    "db = df.to_sql(\"Covid_vaccinations\", con, schema=None, if_exists=\"replace\", index=True, index_label=None, chunksize=None, dtype=None, method=None)\n"
   ]
  },
  {
   "cell_type": "code",
   "execution_count": 21,
   "metadata": {},
   "outputs": [
    {
     "name": "stdout",
     "output_type": "stream",
     "text": [
      "   index  Unnamed: 0      country iso_code        date  total_vaccinations  \\\n",
      "0      0           0  Afghanistan      AFG  2021-02-22                 0.0   \n",
      "1      1           1  Afghanistan      AFG  2021-02-23                 0.0   \n",
      "2      2           2  Afghanistan      AFG  2021-02-24                 0.0   \n",
      "3      3           3  Afghanistan      AFG  2021-02-25                 0.0   \n",
      "4      4           4  Afghanistan      AFG  2021-02-26                 0.0   \n",
      "\n",
      "   people_vaccinated  people_fully_vaccinated  daily_vaccinations  \\\n",
      "0                0.0                      0.0                 0.0   \n",
      "1                0.0                      0.0              1367.0   \n",
      "2                0.0                      0.0              1367.0   \n",
      "3                0.0                      0.0              1367.0   \n",
      "4                0.0                      0.0              1367.0   \n",
      "\n",
      "   total_vaccinations_per_hundred  ...  Covaxin  CanSino  Abdala  \\\n",
      "0                             0.0  ...        0        0       0   \n",
      "1                             0.0  ...        0        0       0   \n",
      "2                             0.0  ...        0        0       0   \n",
      "3                             0.0  ...        0        0       0   \n",
      "4                             0.0  ...        0        0       0   \n",
      "\n",
      "  PfizerBioNTech QazVac  EpiVacCorona  Soberana02  SinopharmHayatVax  \\\n",
      "0              1      0             0           0                  0   \n",
      "1              1      0             0           0                  0   \n",
      "2              1      0             0           0                  0   \n",
      "3              1      0             0           0                  0   \n",
      "4              1      0             0           0                  0   \n",
      "\n",
      "   RBDDimer  SinopharmWuhan  \n",
      "0         0               0  \n",
      "1         0               0  \n",
      "2         0               0  \n",
      "3         0               0  \n",
      "4         0               0  \n",
      "\n",
      "[5 rows x 31 columns]\n"
     ]
    }
   ],
   "source": [
    "#Skapa dataframes från queries i en linje kod\n",
    "df = pd.read_sql_query(\"SELECT * FROM Covid_vaccinations\", con)\n",
    "print(df.head())"
   ]
  },
  {
   "cell_type": "code",
   "execution_count": null,
   "metadata": {},
   "outputs": [],
   "source": [
    "#Creating all tables (empty) I need for my database below:"
   ]
  },
  {
   "cell_type": "code",
   "execution_count": 60,
   "metadata": {},
   "outputs": [
    {
     "data": {
      "text/plain": [
       "<sqlite3.Cursor at 0x7ff070d8f9d0>"
      ]
     },
     "execution_count": 60,
     "metadata": {},
     "output_type": "execute_result"
    }
   ],
   "source": [
    "cur.execute(\"\"\"CREATE TABLE Daily_Vaccine_Data(\n",
    "            iso_code text,\n",
    "            date text,\n",
    "            country text,\n",
    "            daily_vaccinations integer,\n",
    "            daily_vaccinations_per_million,\n",
    "            PRIMARY KEY(iso_code, date)\n",
    "            FOREIGN KEY(country) REFERENCES Country_Source(country))\"\"\")"
   ]
  },
  {
   "cell_type": "code",
   "execution_count": 61,
   "metadata": {},
   "outputs": [
    {
     "data": {
      "text/plain": [
       "<sqlite3.Cursor at 0x7ff070d8f9d0>"
      ]
     },
     "execution_count": 61,
     "metadata": {},
     "output_type": "execute_result"
    }
   ],
   "source": [
    "cur.execute(\"\"\"CREATE TABLE Country_Source(\n",
    "            country text PRIMARY KEY, \n",
    "            source_name text, \n",
    "            source_website text)\"\"\")"
   ]
  },
  {
   "cell_type": "code",
   "execution_count": 62,
   "metadata": {},
   "outputs": [
    {
     "data": {
      "text/plain": [
       "<sqlite3.Cursor at 0x7ff070d8f9d0>"
      ]
     },
     "execution_count": 62,
     "metadata": {},
     "output_type": "execute_result"
    }
   ],
   "source": [
    "cur.execute(\"\"\"CREATE TABLE Country_Vaccines(\n",
    "    country text PRIMARY KEY, Johnson_and_Johnson integer, \n",
    "    Oxford_AstraZeneca integer, Sinovac integer,\n",
    "    Sputnik_V integer, Moderna integer, \n",
    "    Sinopharm_Beijing integer, Covaxin integer, \n",
    "    CanSino integer, Abdala integer, \n",
    "    Pfizer_BioNTech integer, QazVac integer, \n",
    "    EpiVacCorona integer, Soberana02 integer, \n",
    "    Sinopharm_HayatVax integer, RBDDimer integer, \n",
    "    Sinopharm_Wuhan integer,\n",
    "    FOREIGN KEY(country) REFERENCES Country_Source(country))\"\"\")"
   ]
  },
  {
   "cell_type": "code",
   "execution_count": 63,
   "metadata": {},
   "outputs": [
    {
     "data": {
      "text/plain": [
       "<sqlite3.Cursor at 0x7ff070d8f9d0>"
      ]
     },
     "execution_count": 63,
     "metadata": {},
     "output_type": "execute_result"
    }
   ],
   "source": [
    "cur.execute(\"\"\"CREATE TABLE Country_Total(\n",
    "    total_vaccinations integer PRIMARY KEY, \n",
    "    country text , \n",
    "    people_vaccinated integer, \n",
    "    people_fully_vaccinated integer,\n",
    "    total_vaccinations_per_hundred real, \n",
    "    people_vaccinated_per_hundred real, \n",
    "    people_fully_vaccinated_per_hundred,\n",
    "    FOREIGN KEY(country) REFERENCES Country_Source(country))\"\"\")"
   ]
  },
  {
   "cell_type": "code",
   "execution_count": 64,
   "metadata": {},
   "outputs": [],
   "source": [
    "con.commit()"
   ]
  },
  {
   "cell_type": "code",
   "execution_count": null,
   "metadata": {},
   "outputs": [],
   "source": [
    "#Creating copy tables with all the data I need for each table already ordered"
   ]
  },
  {
   "cell_type": "code",
   "execution_count": 65,
   "metadata": {},
   "outputs": [],
   "source": [
    "cur.execute(\"\"\"CREATE TABLE Daily_Vaccine_Data_data AS SELECT\n",
    "            iso_code, date, country, daily_vaccinations, daily_vaccinations_per_million\n",
    "            FROM Covid_vaccinations\"\"\")\n",
    "con.commit()"
   ]
  },
  {
   "cell_type": "code",
   "execution_count": 66,
   "metadata": {},
   "outputs": [],
   "source": [
    "cur.execute(\"\"\"CREATE TABLE Country_Source_data\n",
    "            AS SELECT DISTINCT country, source_name, source_website \n",
    "            FROM Covid_vaccinations\"\"\")\n",
    "con.commit()"
   ]
  },
  {
   "cell_type": "code",
   "execution_count": 67,
   "metadata": {},
   "outputs": [],
   "source": [
    "cur.execute(\"\"\"CREATE TABLE Country_vaccines_data AS SELECT DISTINCT country, \n",
    "            Johnson_and_Johnson, Oxford_AstraZeneca, Sinovac, Sputnik_V, Moderna, \n",
    "            Sinopharm_Beijing, Covaxin, CanSino, Abdala, Pfizer_BioNTech, QazVac, \n",
    "            EpiVacCorona, Soberana02, Sinopharm_HayatVax, RBD_Dimer, Sinopharm_Wuhan \n",
    "            FROM Covid_vaccinations\"\"\")\n",
    "con.commit()"
   ]
  },
  {
   "cell_type": "code",
   "execution_count": 4,
   "metadata": {},
   "outputs": [],
   "source": [
    "#Wanted to create data with the last total input for each country but the last date varies so unsure what to put in LIKE\n",
    "#Will alternatively use iso_date as PK and have a long list for each\n",
    "cur.execute(\"\"\"CREATE TABLE Country_Total_data AS SELECT DISTINCT total_vaccinations, country, people_vaccinated\n",
    "            people_fully_vaccinates, total_vaccinations_per_hundred, people_vaccinated_per_hundred,\n",
    "            people_fully_vaccinated_per_hundred FROM Covid_vaccinations\n",
    "            WHERE iso_date LIKE '%'\"\"\")\n",
    "con.commit()"
   ]
  },
  {
   "cell_type": "code",
   "execution_count": null,
   "metadata": {},
   "outputs": [],
   "source": []
  },
  {
   "cell_type": "code",
   "execution_count": 68,
   "metadata": {},
   "outputs": [],
   "source": [
    "#Below is the code I'm trying to use in order to fill my tables, but it's not working\n",
    "cur.execute(\"\"\"INSERT INTO Country_Source(source_name) SELECT source_name FROM Country_Source_data\"\"\")\n",
    "con.commit()"
   ]
  },
  {
   "cell_type": "code",
   "execution_count": 70,
   "metadata": {},
   "outputs": [],
   "source": [
    "cur.execute(\"DROP TABLE Country_Source_data\")\n",
    "con.commit()"
   ]
  },
  {
   "cell_type": "code",
   "execution_count": 69,
   "metadata": {},
   "outputs": [
    {
     "data": {
      "text/plain": [
       "[(None, 'World Health Organization', None),\n",
       " (None, 'Ministry of Health', None),\n",
       " (None, 'Ministry of Health', None),\n",
       " (None, 'Government of Andorra', None),\n",
       " (None, 'World Health Organization', None),\n",
       " (None, 'World Health Organization', None),\n",
       " (None, 'Ministry of Health', None),\n",
       " (None, 'Ministry of Health', None),\n",
       " (None, 'Ministry of Health', None),\n",
       " (None, 'Government of Aruba', None),\n",
       " (None, 'Government of Australia via covidlive.com.au', None),\n",
       " (None, 'Ministry of Health', None),\n",
       " (None, 'Government of Azerbaijan', None),\n",
       " (None, 'Pan American Health Organization', None),\n",
       " (None, 'Ministry of Health', None),\n",
       " (None, 'Directorate General of Health Services', None),\n",
       " (None, 'Ministry of Health', None),\n",
       " (None, 'World Health Organization', None),\n",
       " (None, 'Sciensano', None),\n",
       " (None, 'Ministry of Health', None),\n",
       " (None, 'Ministry of Health', None),\n",
       " (None, 'Pan American Health Organization', None),\n",
       " (None, 'World Health Organization', None),\n",
       " (None, 'Ministry of Health', None),\n",
       " (None, 'World Health Organization', None),\n",
       " (None, 'Public Health Institute', None),\n",
       " (None, 'Ministry of Health and Wellness', None),\n",
       " (None, 'Ministry of Health', None),\n",
       " (None, 'World Health Organization', None),\n",
       " (None, 'Ministry of Health', None),\n",
       " (None, 'Ministry of Health', None),\n",
       " (None, 'World Health Organization', None),\n",
       " (None, 'Ministry of Health', None),\n",
       " (None, 'World Health Organization', None),\n",
       " (None, 'Official data from provinces via covid19tracker.ca', None),\n",
       " (None, 'World Health Organization', None),\n",
       " (None, 'Cayman Islands Government', None),\n",
       " (None, 'Africa Centres for Disease Control and Prevention', None),\n",
       " (None, 'Africa Centres for Disease Control and Prevention', None),\n",
       " (None, 'Ministerio de Ciencia, Tecnología, Conocimiento e Innovación', None),\n",
       " (None, 'National Health Commission', None),\n",
       " (None, 'Ministry of Health', None),\n",
       " (None, 'World Health Organization', None),\n",
       " (None, 'Africa Centres for Disease Control and Prevention', None),\n",
       " (None, 'SPC Public Health Division', None),\n",
       " (None, 'Costa Rican Social Security Fund', None),\n",
       " (None, 'Ministry of Health and Public Hygiene', None),\n",
       " (None, 'Ministry of Health', None),\n",
       " (None, 'Ministry of Health', None),\n",
       " (None, 'Government of Curacao', None),\n",
       " (None, 'Ministry of Health', None),\n",
       " (None, 'Ministry of Health', None),\n",
       " (None, 'World Health Organization', None),\n",
       " (None, 'Statens Serum Institute', None),\n",
       " (None, 'World Health Organization', None),\n",
       " (None, 'Pan American Health Organization', None),\n",
       " (None, 'Ministry of Public Health', None),\n",
       " (None, 'Government of Ecuador via Ecuacovid', None),\n",
       " (None, 'World Health Organization', None),\n",
       " (None, 'Ministry of Health', None),\n",
       " (None, 'Government of the United Kingdom', None),\n",
       " (None, 'Ministry of Health', None),\n",
       " (None, 'National Health Board', None),\n",
       " (None, 'Government of Eswatini', None),\n",
       " (None, 'Ministry of Health', None),\n",
       " (None, 'Government of the Faeroe Islands', None),\n",
       " (None, 'Government of the Falkland Islands', None),\n",
       " (None, 'SPC Public Health Division', None),\n",
       " (None, 'Finnish Institute for Health and Welfare', None),\n",
       " (None, 'Public Health France', None),\n",
       " (None, 'SPC Public Health Division', None),\n",
       " (None, 'Africa Centres for Disease Control and Prevention', None),\n",
       " (None, 'Africa Centres for Disease Control and Prevention', None),\n",
       " (None, 'National Center for Disease Control and Public Health', None),\n",
       " (None, 'Robert Koch Institut', None),\n",
       " (None, 'World Health Organization', None),\n",
       " (None, 'Government of Gibraltar', None),\n",
       " (None, 'Ministry of Health', None),\n",
       " (None, 'Government of Greenland', None),\n",
       " (None, 'World Health Organization', None),\n",
       " (None, 'Ministry of Health', None),\n",
       " (None, 'Government of Guernsey', None),\n",
       " (None, 'National Health Security Agency', None),\n",
       " (None, 'World Health Organization', None),\n",
       " (None, 'Ministry of Health', None),\n",
       " (None, 'Pan American Health Organization', None),\n",
       " (None, 'World Health Organization', None),\n",
       " (None, 'Government of Hong Kong', None),\n",
       " (None, 'Government of Hungary', None),\n",
       " (None, 'Directorate of Health', None),\n",
       " (None, 'Government of India', None),\n",
       " (None, 'Ministry of Health', None),\n",
       " (None, 'World Health Organization', None),\n",
       " (None, 'World Health Organization', None),\n",
       " (None, 'Heath Service Executive', None),\n",
       " (None, 'Isle of Man Government', None),\n",
       " (None, 'Government of Israel', None),\n",
       " (None, 'Extraordinary commissioner for the Covid-19 emergency', None),\n",
       " (None, 'Pan American Health Organization', None),\n",
       " (None, \"Prime Minister's Office\", None),\n",
       " (None, 'Government of Jersey', None),\n",
       " (None, 'Government of Jordan', None),\n",
       " (None, 'Government of Kazakhstan', None),\n",
       " (None, 'Ministry of Health', None),\n",
       " (None, 'Ministry of Health', None),\n",
       " (None, 'Ministry of Health', None),\n",
       " (None, 'Ministry of Health', None),\n",
       " (None, 'World Health Organization', None),\n",
       " (None, 'National Health Service', None),\n",
       " (None, 'Government of Lebanon', None),\n",
       " (None, 'World Health Organization', None),\n",
       " (None, 'World Health Organization', None),\n",
       " (None, 'World Health Organization', None),\n",
       " (None, 'Federal Office of Public Health', None),\n",
       " (None, 'Ministry of Health', None),\n",
       " (None, 'Government of Luxembourg', None),\n",
       " (None, 'Government of Macao', None),\n",
       " (None, 'World Health Organization', None),\n",
       " (None, 'Ministry of Health', None),\n",
       " (None, 'Government of Malaysia', None),\n",
       " (None, 'Presidency of the Maldives', None),\n",
       " (None, 'World Health Organization', None),\n",
       " (None, 'COVID-19 Malta Public Health Response Team', None),\n",
       " (None, 'Africa Centres for Disease Control and Prevention', None),\n",
       " (None, 'World Health Organization', None),\n",
       " (None, 'Secretary of Health', None),\n",
       " (None, 'Ministry of Health', None),\n",
       " (None, 'National Council', None),\n",
       " (None, 'Ministry of Health via ikon.mn', None),\n",
       " (None, 'Government of Montenegro', None),\n",
       " (None, 'World Health Organization', None),\n",
       " (None, 'Ministry of Health', None),\n",
       " (None, 'World Health Organization', None),\n",
       " (None, 'World Health Organization', None),\n",
       " (None, 'Ministry of Health and Social Services', None),\n",
       " (None, 'SPC Public Health Division', None),\n",
       " (None, 'Government of Nepal', None),\n",
       " (None, 'RIVM via European CDC', None),\n",
       " (None, 'SPC Public Health Division', None),\n",
       " (None, 'Ministry of Health', None),\n",
       " (None, 'World Health Organization', None),\n",
       " (None, 'World Health Organization', None),\n",
       " (None, 'World Health Organization', None),\n",
       " (None, 'SPC Public Health Division', None),\n",
       " (None, 'Government of North Macedonia', None),\n",
       " (None, 'Ministry of Health', None),\n",
       " (None, 'Government of the United Kingdom', None),\n",
       " (None, 'Norwegian Institute of Public Health', None),\n",
       " (None, 'World Health Organization', None),\n",
       " (None, 'National Command and Operation Centre', None),\n",
       " (None, 'Ministry of Health', None),\n",
       " (None, 'Ministry of Health', None),\n",
       " (None, 'SPC Public Health Division', None),\n",
       " (None, 'Government of Paraguay', None),\n",
       " (None,\n",
       "  'Ministry of Health via github.com/jmcastagnetto/covid-19-peru-vacunas',\n",
       "  None),\n",
       " (None,\n",
       "  'Department of Health via ABS-CBN Investigative and Research Group',\n",
       "  None),\n",
       " (None, 'SPC Public Health Division', None),\n",
       " (None, 'Ministry of Health', None),\n",
       " (None,\n",
       "  'Directorate General for Health via Data Science for Social Good',\n",
       "  None),\n",
       " (None, 'Ministry of Public Health', None),\n",
       " (None, 'Government of Romania via datelazi.ro', None),\n",
       " (None, 'Official data from local governments via gogov.ru', None),\n",
       " (None, 'World Health Organization', None),\n",
       " (None, 'Government of Saint Helena', None),\n",
       " (None, 'Government of Saint Kitts and Nevis', None),\n",
       " (None, 'Ministry of Health', None),\n",
       " (None, 'Ministry of Health', None),\n",
       " (None, 'SPC Public Health Division', None),\n",
       " (None, 'Social Security Institute', None),\n",
       " (None, 'World Health Organization', None),\n",
       " (None, 'Saudi Health Council', None),\n",
       " (None, 'Government of the United Kingdom', None),\n",
       " (None, 'World Health Organization', None),\n",
       " (None, 'Government of Serbia', None),\n",
       " (None, 'Extended Programme for Immunisation', None),\n",
       " (None, 'World Health Organization', None),\n",
       " (None, 'Ministry of Health', None),\n",
       " (None, 'World Health Organization', None),\n",
       " (None, 'Ministry of Health', None),\n",
       " (None,\n",
       "  'National Institute of Public Health via covid-19.sledilnik.org',\n",
       "  None),\n",
       " (None, 'SPC Public Health Division', None),\n",
       " (None, 'World Health Organization', None),\n",
       " (None, 'Ministry of Health', None),\n",
       " (None, 'Korea Centers for Disease Control and Prevention', None),\n",
       " (None, 'World Health Organization', None),\n",
       " (None, 'Ministry of Health', None),\n",
       " (None, \"Ministry of Health's Epidemiology Unit\", None),\n",
       " (None, 'World Health Organization', None),\n",
       " (None, 'Government of Suriname', None),\n",
       " (None, 'Public Health Agency of Sweden', None),\n",
       " (None, 'Federal Office of Public Health', None),\n",
       " (None, 'World Health Organization', None),\n",
       " (None, 'Taiwan Centers for Disease Control', None),\n",
       " (None, 'World Health Organization', None),\n",
       " (None, 'Government of Thailand', None),\n",
       " (None, 'World Health Organization', None),\n",
       " (None, 'World Health Organization', None),\n",
       " (None, 'SPC Public Health Division', None),\n",
       " (None, 'Ministry of Health', None),\n",
       " (None, 'World Health Organization', None),\n",
       " (None, 'COVID-19 Vaccine Information Platform', None),\n",
       " (None, 'World Health Organization', None),\n",
       " (None, 'World Health Organization', None),\n",
       " (None, 'SPC Public Health Division', None),\n",
       " (None, 'Ministry of Health', None),\n",
       " (None, 'Ministry of Health', None),\n",
       " (None, 'National Emergency Crisis and Disaster Management Authority', None),\n",
       " (None, 'Government of the United Kingdom', None),\n",
       " (None, 'Centers for Disease Control and Prevention', None),\n",
       " (None, 'Ministry of Health via vacuna.uy', None),\n",
       " (None, 'Government of Uzbekistan', None),\n",
       " (None, 'SPC Public Health Division', None),\n",
       " (None, 'Pan American Health Organization', None),\n",
       " (None, 'Government of Vietnam', None),\n",
       " (None, 'Government of the United Kingdom', None),\n",
       " (None, 'SPC Public Health Division', None),\n",
       " (None, 'World Health Organization', None),\n",
       " (None, 'Government of Zambia', None),\n",
       " (None, 'Ministry of Health', None)]"
      ]
     },
     "execution_count": 69,
     "metadata": {},
     "output_type": "execute_result"
    }
   ],
   "source": [
    "cur.execute(\"SELECT * FROM Country_Source\")\n",
    "cur.fetchall()"
   ]
  },
  {
   "cell_type": "code",
   "execution_count": null,
   "metadata": {},
   "outputs": [],
   "source": [
    "#Neither does selecting data from original\n",
    "cur.execute(\"\"\"INSERT INTO Country_Source(country, source_name, source_website) SELECT DISTINCT country, source_name, source_website FROM Covid_vaccinations\"\"\")\n",
    "con.commit()"
   ]
  }
 ],
 "metadata": {
  "interpreter": {
   "hash": "ffa4a8459794cdd69c74f55bb33a9aa9b4bc53ebdc4688a0ecb1cb445b59f03b"
  },
  "kernelspec": {
   "display_name": "Python 3.8.12 64-bit ('testenv': conda)",
   "language": "python",
   "name": "python3"
  },
  "language_info": {
   "codemirror_mode": {
    "name": "ipython",
    "version": 3
   },
   "file_extension": ".py",
   "mimetype": "text/x-python",
   "name": "python",
   "nbconvert_exporter": "python",
   "pygments_lexer": "ipython3",
   "version": "3.8.12"
  },
  "orig_nbformat": 4
 },
 "nbformat": 4,
 "nbformat_minor": 2
}
