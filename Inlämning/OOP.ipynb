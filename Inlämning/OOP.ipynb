{
 "cells": [
  {
   "cell_type": "code",
   "execution_count": 30,
   "metadata": {},
   "outputs": [],
   "source": [
    "import sqlite3\n",
    "import pandas as pd\n",
    "import csv\n",
    "import argparse"
   ]
  },
  {
   "cell_type": "code",
   "execution_count": 31,
   "metadata": {},
   "outputs": [],
   "source": [
    "db = sqlite3.connect(\"Covid.db\")\n",
    "cur = db.cursor()\n",
    "con = sqlite3.connect(\"Covid.db\")\n"
   ]
  },
  {
   "cell_type": "code",
   "execution_count": 32,
   "metadata": {},
   "outputs": [],
   "source": [
    "df = pd.read_csv(r\"/Users/jenny.wade@schibsted.com/Documents/GitHub/python_programmering/Inlämning/covid_vaccinations.csv\")\n",
    "df = df.fillna(0)\n",
    "db = df.to_sql(\"Covid_vaccinations\", con, schema=None, if_exists=\"replace\", index=True, index_label=None, chunksize=None, dtype=None, method=None)\n"
   ]
  },
  {
   "cell_type": "code",
   "execution_count": 21,
   "metadata": {},
   "outputs": [
    {
     "name": "stdout",
     "output_type": "stream",
     "text": [
      "   index  Unnamed: 0      country iso_code        date  total_vaccinations  \\\n",
      "0      0           0  Afghanistan      AFG  2021-02-22                 0.0   \n",
      "1      1           1  Afghanistan      AFG  2021-02-23                 0.0   \n",
      "2      2           2  Afghanistan      AFG  2021-02-24                 0.0   \n",
      "3      3           3  Afghanistan      AFG  2021-02-25                 0.0   \n",
      "4      4           4  Afghanistan      AFG  2021-02-26                 0.0   \n",
      "\n",
      "   people_vaccinated  people_fully_vaccinated  daily_vaccinations  \\\n",
      "0                0.0                      0.0                 0.0   \n",
      "1                0.0                      0.0              1367.0   \n",
      "2                0.0                      0.0              1367.0   \n",
      "3                0.0                      0.0              1367.0   \n",
      "4                0.0                      0.0              1367.0   \n",
      "\n",
      "   total_vaccinations_per_hundred  ...  Covaxin  CanSino  Abdala  \\\n",
      "0                             0.0  ...        0        0       0   \n",
      "1                             0.0  ...        0        0       0   \n",
      "2                             0.0  ...        0        0       0   \n",
      "3                             0.0  ...        0        0       0   \n",
      "4                             0.0  ...        0        0       0   \n",
      "\n",
      "  PfizerBioNTech QazVac  EpiVacCorona  Soberana02  SinopharmHayatVax  \\\n",
      "0              1      0             0           0                  0   \n",
      "1              1      0             0           0                  0   \n",
      "2              1      0             0           0                  0   \n",
      "3              1      0             0           0                  0   \n",
      "4              1      0             0           0                  0   \n",
      "\n",
      "   RBDDimer  SinopharmWuhan  \n",
      "0         0               0  \n",
      "1         0               0  \n",
      "2         0               0  \n",
      "3         0               0  \n",
      "4         0               0  \n",
      "\n",
      "[5 rows x 31 columns]\n"
     ]
    }
   ],
   "source": [
    "#Skapa dataframes från queries i en linje kod\n",
    "df = pd.read_sql_query(\"SELECT * FROM Covid_vaccinations\", con)\n",
    "print(df.head())"
   ]
  },
  {
   "cell_type": "code",
   "execution_count": null,
   "metadata": {},
   "outputs": [],
   "source": [
    "#Creating all tables (empty) I need for my database below:"
   ]
  },
  {
   "cell_type": "code",
   "execution_count": 33,
   "metadata": {},
   "outputs": [],
   "source": [
    "cur.execute(\"\"\"CREATE TABLE Daily_Vaccine_Data(\n",
    "            iso_date text PRIMARY KEY,\n",
    "            country text,\n",
    "            daily_vaccinations integer,\n",
    "            daily_vaccinations_per_million)\"\"\")\n",
    "con.commit()"
   ]
  },
  {
   "cell_type": "code",
   "execution_count": 34,
   "metadata": {},
   "outputs": [],
   "source": [
    "cur.execute(\"\"\"CREATE TABLE Country_Source(\n",
    "            country text PRIMARY KEY, \n",
    "            source_name text, \n",
    "            source_website text)\"\"\")\n",
    "con.commit()"
   ]
  },
  {
   "cell_type": "code",
   "execution_count": 35,
   "metadata": {},
   "outputs": [],
   "source": [
    "cur.execute(\"\"\"CREATE TABLE Country_Vaccines(\n",
    "    country text PRIMARY KEY, Johnson_and_Johnson integer, \n",
    "    Oxford_AstraZeneca integer, Sinovac integer,\n",
    "    Sputnik_V integer, Moderna integer, \n",
    "    Sinopharm_Beijing integer, Covaxin integer, \n",
    "    CanSino integer, Abdala integer, \n",
    "    Pfizer_BioNTech integer, QazVac integer, \n",
    "    EpiVacCorona integer, Soberana02 integer, \n",
    "    Sinopharm_HayatVax integer, RBDDimer integer, \n",
    "    Sinopharm_Wuhan integer)\"\"\")\n",
    "con.commit()"
   ]
  },
  {
   "cell_type": "code",
   "execution_count": 36,
   "metadata": {},
   "outputs": [],
   "source": [
    "cur.execute(\"\"\"CREATE TABLE Country_Total(\n",
    "    total_vaccinations integer PRIMARY KEY, \n",
    "    country text , \n",
    "    people_vaccinated integer, \n",
    "    people_fully_vaccinated integer,\n",
    "    total_vaccinations_per_hundred real, \n",
    "    people_vaccinated_per_hundred real, \n",
    "    people_fully_vaccinated_per_hundred)\"\"\")\n",
    "con.commit()"
   ]
  },
  {
   "cell_type": "code",
   "execution_count": null,
   "metadata": {},
   "outputs": [],
   "source": [
    "#Creating copy tables with all the data I need for each table already ordered"
   ]
  },
  {
   "cell_type": "code",
   "execution_count": 39,
   "metadata": {},
   "outputs": [],
   "source": [
    "cur.execute(\"\"\"CREATE TABLE Daily_Vaccine_Data_copy AS SELECT\n",
    "            iso_date, country, daily_vaccinations, daily_vaccinations_per_million\n",
    "            FROM Covid_vaccinations\"\"\")\n",
    "con.commit()"
   ]
  },
  {
   "cell_type": "code",
   "execution_count": 40,
   "metadata": {},
   "outputs": [],
   "source": [
    "cur.execute(\"\"\"CREATE TABLE Country_Source_data\n",
    "            AS SELECT DISTINCT country, source_name, source_website \n",
    "            FROM Covid_vaccinations\"\"\")\n",
    "con.commit()"
   ]
  },
  {
   "cell_type": "code",
   "execution_count": 41,
   "metadata": {},
   "outputs": [],
   "source": [
    "cur.execute(\"\"\"CREATE TABLE Country_vaccines_data AS SELECT DISTINCT country, \n",
    "            Johnson_and_Johnson, Oxford_AstraZeneca, Sinovac, Sputnik_V, Moderna, \n",
    "            Sinopharm_Beijing, Covaxin, CanSino, Abdala, Pfizer_BioNTech, QazVac, \n",
    "            EpiVacCorona, Soberana02, Sinopharm_HayatVax, RBD_Dimer, Sinopharm_Wuhan \n",
    "            FROM Covid_vaccinations\"\"\")\n",
    "con.commit()"
   ]
  },
  {
   "cell_type": "code",
   "execution_count": 46,
   "metadata": {},
   "outputs": [],
   "source": [
    "cur.execute(\"DROP TABLE Country_Total_data\")\n",
    "con.commit()"
   ]
  },
  {
   "cell_type": "code",
   "execution_count": 44,
   "metadata": {},
   "outputs": [],
   "source": [
    "cur.execute(\"\"\"CREATE TABLE Country_Total_data AS SELECT DISTINCT max(total_vaccinations), country, people_vaccinated\n",
    "            people_fully_vaccinates, total_vaccinations_per_hundred, people_vaccinated_per_hundred,\n",
    "            people_fully_vaccinated_per_hundred FROM Covid_vaccinations\"\"\")\n",
    "con.commit()"
   ]
  },
  {
   "cell_type": "code",
   "execution_count": 45,
   "metadata": {},
   "outputs": [],
   "source": [
    "#Below is the code I'm trying to use in order to fill my tables, but it's not working\n",
    "cur.execute(\"\"\"INSERT INTO Country_Vaccines SELECT * FROM Country_Vaccines_data\"\"\")\n",
    "con.commit()"
   ]
  }
 ],
 "metadata": {
  "interpreter": {
   "hash": "ffa4a8459794cdd69c74f55bb33a9aa9b4bc53ebdc4688a0ecb1cb445b59f03b"
  },
  "kernelspec": {
   "display_name": "Python 3.8.12 64-bit ('testenv': conda)",
   "language": "python",
   "name": "python3"
  },
  "language_info": {
   "codemirror_mode": {
    "name": "ipython",
    "version": 3
   },
   "file_extension": ".py",
   "mimetype": "text/x-python",
   "name": "python",
   "nbconvert_exporter": "python",
   "pygments_lexer": "ipython3",
   "version": "3.8.12"
  },
  "orig_nbformat": 4
 },
 "nbformat": 4,
 "nbformat_minor": 2
}
