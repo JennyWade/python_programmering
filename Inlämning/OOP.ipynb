{
 "cells": [
  {
   "cell_type": "code",
   "execution_count": 1,
   "metadata": {},
   "outputs": [],
   "source": [
    "import sqlite3\n",
    "import pandas as pd\n",
    "import csv\n",
    "import argparse"
   ]
  },
  {
   "cell_type": "code",
   "execution_count": 2,
   "metadata": {},
   "outputs": [],
   "source": [
    "db = sqlite3.connect(\"Covid.db\")\n",
    "cur = db.cursor()\n",
    "con = sqlite3.connect(\"Covid.db\")\n"
   ]
  },
  {
   "cell_type": "code",
   "execution_count": 20,
   "metadata": {},
   "outputs": [],
   "source": [
    "df = pd.read_csv(r\"/Users/jenny.wade@schibsted.com/Documents/GitHub/python_programmering/Inlämning/covid_vaccinations.csv\")\n",
    "df = df.fillna(0)\n",
    "db = df.to_sql(\"Covid_vaccinations\", con, schema=None, if_exists=\"replace\", index=True, index_label=None, chunksize=None, dtype=None, method=None)\n"
   ]
  },
  {
   "cell_type": "code",
   "execution_count": 21,
   "metadata": {},
   "outputs": [
    {
     "name": "stdout",
     "output_type": "stream",
     "text": [
      "   index  Unnamed: 0      country iso_code        date  total_vaccinations  \\\n",
      "0      0           0  Afghanistan      AFG  2021-02-22                 0.0   \n",
      "1      1           1  Afghanistan      AFG  2021-02-23                 0.0   \n",
      "2      2           2  Afghanistan      AFG  2021-02-24                 0.0   \n",
      "3      3           3  Afghanistan      AFG  2021-02-25                 0.0   \n",
      "4      4           4  Afghanistan      AFG  2021-02-26                 0.0   \n",
      "\n",
      "   people_vaccinated  people_fully_vaccinated  daily_vaccinations  \\\n",
      "0                0.0                      0.0                 0.0   \n",
      "1                0.0                      0.0              1367.0   \n",
      "2                0.0                      0.0              1367.0   \n",
      "3                0.0                      0.0              1367.0   \n",
      "4                0.0                      0.0              1367.0   \n",
      "\n",
      "   total_vaccinations_per_hundred  ...  Covaxin  CanSino  Abdala  \\\n",
      "0                             0.0  ...        0        0       0   \n",
      "1                             0.0  ...        0        0       0   \n",
      "2                             0.0  ...        0        0       0   \n",
      "3                             0.0  ...        0        0       0   \n",
      "4                             0.0  ...        0        0       0   \n",
      "\n",
      "  PfizerBioNTech QazVac  EpiVacCorona  Soberana02  SinopharmHayatVax  \\\n",
      "0              1      0             0           0                  0   \n",
      "1              1      0             0           0                  0   \n",
      "2              1      0             0           0                  0   \n",
      "3              1      0             0           0                  0   \n",
      "4              1      0             0           0                  0   \n",
      "\n",
      "   RBDDimer  SinopharmWuhan  \n",
      "0         0               0  \n",
      "1         0               0  \n",
      "2         0               0  \n",
      "3         0               0  \n",
      "4         0               0  \n",
      "\n",
      "[5 rows x 31 columns]\n"
     ]
    }
   ],
   "source": [
    "#Skapa dataframes från queries i en linje kod\n",
    "df = pd.read_sql_query(\"SELECT * FROM Covid_vaccinations\", con)\n",
    "print(df.head())"
   ]
  },
  {
   "cell_type": "code",
   "execution_count": null,
   "metadata": {},
   "outputs": [],
   "source": [
    "cur.execute(\"CREATE TABLE Country_Source1 AS SELECT DISTINCT country, source_name, source_website FROM Covid_vaccinations\")\n",
    "con.commit()"
   ]
  },
  {
   "cell_type": "code",
   "execution_count": 3,
   "metadata": {},
   "outputs": [
    {
     "data": {
      "text/plain": [
       "<sqlite3.Cursor at 0x7f83b117dab0>"
      ]
     },
     "execution_count": 3,
     "metadata": {},
     "output_type": "execute_result"
    }
   ],
   "source": [
    "cur.execute(\"CREATE TABLE IF NOT EXISTS Country_Source(country text PRIMARY KEY NOT NULL, source_name text NOT NULL, source_website text NOT NULL)\")\n",
    "cur.execute(\"INSERT INTO Country_Source SELECT * FROM Country_Source1\")"
   ]
  },
  {
   "cell_type": "code",
   "execution_count": 4,
   "metadata": {},
   "outputs": [],
   "source": [
    "\n",
    "con.commit()"
   ]
  },
  {
   "cell_type": "code",
   "execution_count": 3,
   "metadata": {},
   "outputs": [],
   "source": [
    "cur.execute(\"CREATE TABLE IF NOT EXISTS Country_Vaccines(country text PRIMARY KEY, JohnsonAndJohnson integer, OxfordAstraZeneca integer, Sinovac integer \\\n",
    "    SputnikV integer, Moderna integer, SinopharmBeijing integer, Covaxin integer, CanSino integer, Abdala integer, PfizerBioNTech integer, \\\n",
    "    QazVac integer, EpiVacCorona integer, Soberana02 integer, SinopharmHayatVax integer, RBDDimer integer, SinopharmWuhan integer)\")\n",
    "con.commit()"
   ]
  },
  {
   "cell_type": "code",
   "execution_count": 4,
   "metadata": {},
   "outputs": [],
   "source": [
    "cur.execute(\"CREATE TABLE Country_Vaccines1 AS SELECT DISTINCT country, JohnsonAndJohnson, OxfordAstraZeneca, Sinovac, \\\n",
    "    SputnikV, Moderna, SinopharmBeijing, Covaxin, CanSino, Abdala, PfizerBioNTech, \\\n",
    "    QazVac, EpiVacCorona, Soberana02, SinopharmHayatVax, RBDDimer, SinopharmWuhan FROM Covid_vaccinations\")\n",
    "con.commit()"
   ]
  },
  {
   "cell_type": "code",
   "execution_count": 8,
   "metadata": {},
   "outputs": [],
   "source": [
    "cur.execute(\"CREATE TABLE IF NOT EXISTS Country_Total(total_vaccinations integer PRIMARY KEY, country text , people_vaccinated integer, people_fully_vaccinated integer, \\\n",
    "    total_vaccinations_per_hundred real, people_vaccinated_per_hundred real, people_fully_vaccinated_per_hundred)\")\n",
    "con.commit()"
   ]
  },
  {
   "cell_type": "code",
   "execution_count": 13,
   "metadata": {},
   "outputs": [],
   "source": [
    "con.commit()\n",
    "con.close()"
   ]
  },
  {
   "cell_type": "code",
   "execution_count": 11,
   "metadata": {},
   "outputs": [
    {
     "ename": "TypeError",
     "evalue": "__init__() missing 1 required positional argument: 'database'",
     "output_type": "error",
     "traceback": [
      "\u001b[0;31m---------------------------------------------------------------------------\u001b[0m",
      "\u001b[0;31mTypeError\u001b[0m                                 Traceback (most recent call last)",
      "Input \u001b[0;32mIn [11]\u001b[0m, in \u001b[0;36m<module>\u001b[0;34m\u001b[0m\n\u001b[1;32m      1\u001b[0m \u001b[38;5;28;01mfrom\u001b[39;00m \u001b[38;5;21;01mClasses\u001b[39;00m \u001b[38;5;28;01mimport\u001b[39;00m CleanCSV\n\u001b[1;32m      2\u001b[0m \u001b[38;5;28;01mif\u001b[39;00m \u001b[38;5;18m__name__\u001b[39m \u001b[38;5;241m==\u001b[39m \u001b[38;5;124m\"\u001b[39m\u001b[38;5;124m__main__\u001b[39m\u001b[38;5;124m\"\u001b[39m:\n\u001b[0;32m----> 3\u001b[0m     covid \u001b[38;5;241m=\u001b[39m \u001b[43mCleanCSV\u001b[49m\u001b[43m(\u001b[49m\u001b[38;5;124;43m\"\u001b[39;49m\u001b[38;5;124;43mvaccin_covid.csv\u001b[39;49m\u001b[38;5;124;43m\"\u001b[39;49m\u001b[43m)\u001b[49m\n\u001b[1;32m      5\u001b[0m     covid\u001b[38;5;241m.\u001b[39m_split_to_list(\u001b[38;5;124m'\u001b[39m\u001b[38;5;124mvaccines\u001b[39m\u001b[38;5;124m'\u001b[39m)\n\u001b[1;32m      7\u001b[0m     covid\u001b[38;5;241m.\u001b[39m_remove([\u001b[38;5;124m\"\u001b[39m\u001b[38;5;124mvaccines\u001b[39m\u001b[38;5;124m\"\u001b[39m, \u001b[38;5;124m\"\u001b[39m\u001b[38;5;124mdaily_vaccinations_raw\u001b[39m\u001b[38;5;124m\"\u001b[39m])\n",
      "\u001b[0;31mTypeError\u001b[0m: __init__() missing 1 required positional argument: 'database'"
     ]
    }
   ],
   "source": [
    "from Classes import CleanCSV\n",
    "\n",
    "    "
   ]
  }
 ],
 "metadata": {
  "interpreter": {
   "hash": "ffa4a8459794cdd69c74f55bb33a9aa9b4bc53ebdc4688a0ecb1cb445b59f03b"
  },
  "kernelspec": {
   "display_name": "Python 3.8.12 64-bit ('testenv': conda)",
   "language": "python",
   "name": "python3"
  },
  "language_info": {
   "codemirror_mode": {
    "name": "ipython",
    "version": 3
   },
   "file_extension": ".py",
   "mimetype": "text/x-python",
   "name": "python",
   "nbconvert_exporter": "python",
   "pygments_lexer": "ipython3",
   "version": "3.8.12"
  },
  "orig_nbformat": 4
 },
 "nbformat": 4,
 "nbformat_minor": 2
}
